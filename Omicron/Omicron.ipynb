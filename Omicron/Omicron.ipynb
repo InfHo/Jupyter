{
 "cells": [
  {
   "cell_type": "code",
   "execution_count": 2,
   "id": "ed349e2e",
   "metadata": {},
   "outputs": [],
   "source": [
    "from matplotlib import pyplot as plt"
   ]
  },
  {
   "cell_type": "code",
   "execution_count": 3,
   "id": "6342f7bd",
   "metadata": {},
   "outputs": [],
   "source": [
    "import pandas as pd"
   ]
  },
  {
   "cell_type": "code",
   "execution_count": 4,
   "id": "342a64df",
   "metadata": {},
   "outputs": [],
   "source": [
    "data = pd.read_csv(\"covid-variants.csv\")"
   ]
  },
  {
   "cell_type": "code",
   "execution_count": 5,
   "id": "8e1e14b6",
   "metadata": {},
   "outputs": [
    {
     "data": {
      "text/plain": [
       "pandas.core.frame.DataFrame"
      ]
     },
     "execution_count": 5,
     "metadata": {},
     "output_type": "execute_result"
    }
   ],
   "source": [
    "type(data)"
   ]
  },
  {
   "cell_type": "code",
   "execution_count": 6,
   "id": "60aefdda",
   "metadata": {},
   "outputs": [
    {
     "data": {
      "text/html": [
       "<div>\n",
       "<style scoped>\n",
       "    .dataframe tbody tr th:only-of-type {\n",
       "        vertical-align: middle;\n",
       "    }\n",
       "\n",
       "    .dataframe tbody tr th {\n",
       "        vertical-align: top;\n",
       "    }\n",
       "\n",
       "    .dataframe thead th {\n",
       "        text-align: right;\n",
       "    }\n",
       "</style>\n",
       "<table border=\"1\" class=\"dataframe\">\n",
       "  <thead>\n",
       "    <tr style=\"text-align: right;\">\n",
       "      <th></th>\n",
       "      <th>location</th>\n",
       "      <th>date</th>\n",
       "      <th>variant</th>\n",
       "      <th>num_sequences</th>\n",
       "      <th>perc_sequences</th>\n",
       "      <th>num_sequences_total</th>\n",
       "    </tr>\n",
       "  </thead>\n",
       "  <tbody>\n",
       "    <tr>\n",
       "      <th>0</th>\n",
       "      <td>Angola</td>\n",
       "      <td>2020-07-06</td>\n",
       "      <td>Alpha</td>\n",
       "      <td>0</td>\n",
       "      <td>0.0</td>\n",
       "      <td>3</td>\n",
       "    </tr>\n",
       "    <tr>\n",
       "      <th>1</th>\n",
       "      <td>Angola</td>\n",
       "      <td>2020-07-06</td>\n",
       "      <td>B.1.1.277</td>\n",
       "      <td>0</td>\n",
       "      <td>0.0</td>\n",
       "      <td>3</td>\n",
       "    </tr>\n",
       "    <tr>\n",
       "      <th>2</th>\n",
       "      <td>Angola</td>\n",
       "      <td>2020-07-06</td>\n",
       "      <td>B.1.1.302</td>\n",
       "      <td>0</td>\n",
       "      <td>0.0</td>\n",
       "      <td>3</td>\n",
       "    </tr>\n",
       "    <tr>\n",
       "      <th>3</th>\n",
       "      <td>Angola</td>\n",
       "      <td>2020-07-06</td>\n",
       "      <td>B.1.1.519</td>\n",
       "      <td>0</td>\n",
       "      <td>0.0</td>\n",
       "      <td>3</td>\n",
       "    </tr>\n",
       "    <tr>\n",
       "      <th>4</th>\n",
       "      <td>Angola</td>\n",
       "      <td>2020-07-06</td>\n",
       "      <td>B.1.160</td>\n",
       "      <td>0</td>\n",
       "      <td>0.0</td>\n",
       "      <td>3</td>\n",
       "    </tr>\n",
       "  </tbody>\n",
       "</table>\n",
       "</div>"
      ],
      "text/plain": [
       "  location        date    variant  num_sequences  perc_sequences  \\\n",
       "0   Angola  2020-07-06      Alpha              0             0.0   \n",
       "1   Angola  2020-07-06  B.1.1.277              0             0.0   \n",
       "2   Angola  2020-07-06  B.1.1.302              0             0.0   \n",
       "3   Angola  2020-07-06  B.1.1.519              0             0.0   \n",
       "4   Angola  2020-07-06    B.1.160              0             0.0   \n",
       "\n",
       "   num_sequences_total  \n",
       "0                    3  \n",
       "1                    3  \n",
       "2                    3  \n",
       "3                    3  \n",
       "4                    3  "
      ]
     },
     "execution_count": 6,
     "metadata": {},
     "output_type": "execute_result"
    }
   ],
   "source": [
    "data.head()"
   ]
  },
  {
   "cell_type": "code",
   "execution_count": 18,
   "id": "f552d878",
   "metadata": {
    "scrolled": false
   },
   "outputs": [
    {
     "data": {
      "text/html": [
       "<div>\n",
       "<style scoped>\n",
       "    .dataframe tbody tr th:only-of-type {\n",
       "        vertical-align: middle;\n",
       "    }\n",
       "\n",
       "    .dataframe tbody tr th {\n",
       "        vertical-align: top;\n",
       "    }\n",
       "\n",
       "    .dataframe thead th {\n",
       "        text-align: right;\n",
       "    }\n",
       "</style>\n",
       "<table border=\"1\" class=\"dataframe\">\n",
       "  <thead>\n",
       "    <tr style=\"text-align: right;\">\n",
       "      <th></th>\n",
       "      <th>location</th>\n",
       "      <th>date</th>\n",
       "      <th>variant</th>\n",
       "      <th>num_sequences</th>\n",
       "      <th>perc_sequences</th>\n",
       "      <th>num_sequences_total</th>\n",
       "    </tr>\n",
       "  </thead>\n",
       "  <tbody>\n",
       "    <tr>\n",
       "      <th>100414</th>\n",
       "      <td>Zimbabwe</td>\n",
       "      <td>2021-11-01</td>\n",
       "      <td>others</td>\n",
       "      <td>0</td>\n",
       "      <td>0.0</td>\n",
       "      <td>6</td>\n",
       "    </tr>\n",
       "    <tr>\n",
       "      <th>100415</th>\n",
       "      <td>Zimbabwe</td>\n",
       "      <td>2021-11-01</td>\n",
       "      <td>non_who</td>\n",
       "      <td>0</td>\n",
       "      <td>0.0</td>\n",
       "      <td>6</td>\n",
       "    </tr>\n",
       "  </tbody>\n",
       "</table>\n",
       "</div>"
      ],
      "text/plain": [
       "        location        date  variant  num_sequences  perc_sequences  \\\n",
       "100414  Zimbabwe  2021-11-01   others              0             0.0   \n",
       "100415  Zimbabwe  2021-11-01  non_who              0             0.0   \n",
       "\n",
       "        num_sequences_total  \n",
       "100414                    6  \n",
       "100415                    6  "
      ]
     },
     "execution_count": 18,
     "metadata": {},
     "output_type": "execute_result"
    }
   ],
   "source": [
    "data.tail(2)"
   ]
  },
  {
   "cell_type": "code",
   "execution_count": 21,
   "id": "8446edb6",
   "metadata": {},
   "outputs": [
    {
     "data": {
      "text/plain": [
       "0           Angola\n",
       "1           Angola\n",
       "2           Angola\n",
       "3           Angola\n",
       "4           Angola\n",
       "            ...   \n",
       "100411    Zimbabwe\n",
       "100412    Zimbabwe\n",
       "100413    Zimbabwe\n",
       "100414    Zimbabwe\n",
       "100415    Zimbabwe\n",
       "Name: location, Length: 100416, dtype: object"
      ]
     },
     "execution_count": 21,
     "metadata": {},
     "output_type": "execute_result"
    }
   ],
   "source": [
    "data['location']"
   ]
  },
  {
   "cell_type": "code",
   "execution_count": 23,
   "id": "9fba3651",
   "metadata": {},
   "outputs": [],
   "source": [
    "data_ger = data[(data['location']=='Germany')]"
   ]
  },
  {
   "cell_type": "code",
   "execution_count": 13,
   "id": "9a21ce2d",
   "metadata": {
    "scrolled": false
   },
   "outputs": [
    {
     "data": {
      "text/html": [
       "<div>\n",
       "<style scoped>\n",
       "    .dataframe tbody tr th:only-of-type {\n",
       "        vertical-align: middle;\n",
       "    }\n",
       "\n",
       "    .dataframe tbody tr th {\n",
       "        vertical-align: top;\n",
       "    }\n",
       "\n",
       "    .dataframe thead th {\n",
       "        text-align: right;\n",
       "    }\n",
       "</style>\n",
       "<table border=\"1\" class=\"dataframe\">\n",
       "  <thead>\n",
       "    <tr style=\"text-align: right;\">\n",
       "      <th></th>\n",
       "      <th>location</th>\n",
       "      <th>date</th>\n",
       "      <th>variant</th>\n",
       "      <th>num_sequences</th>\n",
       "      <th>perc_sequences</th>\n",
       "      <th>num_sequences_total</th>\n",
       "    </tr>\n",
       "  </thead>\n",
       "  <tbody>\n",
       "    <tr>\n",
       "      <th>30168</th>\n",
       "      <td>Germany</td>\n",
       "      <td>2020-05-11</td>\n",
       "      <td>Alpha</td>\n",
       "      <td>0</td>\n",
       "      <td>0.00</td>\n",
       "      <td>105</td>\n",
       "    </tr>\n",
       "    <tr>\n",
       "      <th>30169</th>\n",
       "      <td>Germany</td>\n",
       "      <td>2020-05-11</td>\n",
       "      <td>B.1.1.277</td>\n",
       "      <td>0</td>\n",
       "      <td>0.00</td>\n",
       "      <td>105</td>\n",
       "    </tr>\n",
       "    <tr>\n",
       "      <th>30170</th>\n",
       "      <td>Germany</td>\n",
       "      <td>2020-05-11</td>\n",
       "      <td>B.1.1.302</td>\n",
       "      <td>0</td>\n",
       "      <td>0.00</td>\n",
       "      <td>105</td>\n",
       "    </tr>\n",
       "    <tr>\n",
       "      <th>30171</th>\n",
       "      <td>Germany</td>\n",
       "      <td>2020-05-11</td>\n",
       "      <td>B.1.1.519</td>\n",
       "      <td>0</td>\n",
       "      <td>0.00</td>\n",
       "      <td>105</td>\n",
       "    </tr>\n",
       "    <tr>\n",
       "      <th>30172</th>\n",
       "      <td>Germany</td>\n",
       "      <td>2020-05-11</td>\n",
       "      <td>B.1.160</td>\n",
       "      <td>0</td>\n",
       "      <td>0.00</td>\n",
       "      <td>105</td>\n",
       "    </tr>\n",
       "    <tr>\n",
       "      <th>...</th>\n",
       "      <td>...</td>\n",
       "      <td>...</td>\n",
       "      <td>...</td>\n",
       "      <td>...</td>\n",
       "      <td>...</td>\n",
       "      <td>...</td>\n",
       "    </tr>\n",
       "    <tr>\n",
       "      <th>31219</th>\n",
       "      <td>Germany</td>\n",
       "      <td>2021-12-27</td>\n",
       "      <td>Omicron</td>\n",
       "      <td>1701</td>\n",
       "      <td>13.52</td>\n",
       "      <td>12584</td>\n",
       "    </tr>\n",
       "    <tr>\n",
       "      <th>31220</th>\n",
       "      <td>Germany</td>\n",
       "      <td>2021-12-27</td>\n",
       "      <td>S:677H.Robin1</td>\n",
       "      <td>0</td>\n",
       "      <td>0.00</td>\n",
       "      <td>12584</td>\n",
       "    </tr>\n",
       "    <tr>\n",
       "      <th>31221</th>\n",
       "      <td>Germany</td>\n",
       "      <td>2021-12-27</td>\n",
       "      <td>S:677P.Pelican</td>\n",
       "      <td>0</td>\n",
       "      <td>0.00</td>\n",
       "      <td>12584</td>\n",
       "    </tr>\n",
       "    <tr>\n",
       "      <th>31222</th>\n",
       "      <td>Germany</td>\n",
       "      <td>2021-12-27</td>\n",
       "      <td>others</td>\n",
       "      <td>24</td>\n",
       "      <td>0.19</td>\n",
       "      <td>12584</td>\n",
       "    </tr>\n",
       "    <tr>\n",
       "      <th>31223</th>\n",
       "      <td>Germany</td>\n",
       "      <td>2021-12-27</td>\n",
       "      <td>non_who</td>\n",
       "      <td>24</td>\n",
       "      <td>0.19</td>\n",
       "      <td>12584</td>\n",
       "    </tr>\n",
       "  </tbody>\n",
       "</table>\n",
       "<p>1056 rows × 6 columns</p>\n",
       "</div>"
      ],
      "text/plain": [
       "      location        date         variant  num_sequences  perc_sequences  \\\n",
       "30168  Germany  2020-05-11           Alpha              0            0.00   \n",
       "30169  Germany  2020-05-11       B.1.1.277              0            0.00   \n",
       "30170  Germany  2020-05-11       B.1.1.302              0            0.00   \n",
       "30171  Germany  2020-05-11       B.1.1.519              0            0.00   \n",
       "30172  Germany  2020-05-11         B.1.160              0            0.00   \n",
       "...        ...         ...             ...            ...             ...   \n",
       "31219  Germany  2021-12-27         Omicron           1701           13.52   \n",
       "31220  Germany  2021-12-27   S:677H.Robin1              0            0.00   \n",
       "31221  Germany  2021-12-27  S:677P.Pelican              0            0.00   \n",
       "31222  Germany  2021-12-27          others             24            0.19   \n",
       "31223  Germany  2021-12-27         non_who             24            0.19   \n",
       "\n",
       "       num_sequences_total  \n",
       "30168                  105  \n",
       "30169                  105  \n",
       "30170                  105  \n",
       "30171                  105  \n",
       "30172                  105  \n",
       "...                    ...  \n",
       "31219                12584  \n",
       "31220                12584  \n",
       "31221                12584  \n",
       "31222                12584  \n",
       "31223                12584  \n",
       "\n",
       "[1056 rows x 6 columns]"
      ]
     },
     "execution_count": 13,
     "metadata": {},
     "output_type": "execute_result"
    }
   ],
   "source": [
    "data_ger"
   ]
  },
  {
   "cell_type": "code",
   "execution_count": 15,
   "id": "00cecd66",
   "metadata": {},
   "outputs": [],
   "source": [
    "data_ger_alpha = data_ger[(data_ger['variant']=='Alpha')]"
   ]
  },
  {
   "cell_type": "code",
   "execution_count": 25,
   "id": "28fda3ee",
   "metadata": {},
   "outputs": [
    {
     "data": {
      "text/html": [
       "<div>\n",
       "<style scoped>\n",
       "    .dataframe tbody tr th:only-of-type {\n",
       "        vertical-align: middle;\n",
       "    }\n",
       "\n",
       "    .dataframe tbody tr th {\n",
       "        vertical-align: top;\n",
       "    }\n",
       "\n",
       "    .dataframe thead th {\n",
       "        text-align: right;\n",
       "    }\n",
       "</style>\n",
       "<table border=\"1\" class=\"dataframe\">\n",
       "  <thead>\n",
       "    <tr style=\"text-align: right;\">\n",
       "      <th></th>\n",
       "      <th>location</th>\n",
       "      <th>date</th>\n",
       "      <th>variant</th>\n",
       "      <th>num_sequences</th>\n",
       "      <th>perc_sequences</th>\n",
       "      <th>num_sequences_total</th>\n",
       "    </tr>\n",
       "  </thead>\n",
       "  <tbody>\n",
       "    <tr>\n",
       "      <th>30168</th>\n",
       "      <td>Germany</td>\n",
       "      <td>2020-05-11</td>\n",
       "      <td>Alpha</td>\n",
       "      <td>0</td>\n",
       "      <td>0.0</td>\n",
       "      <td>105</td>\n",
       "    </tr>\n",
       "    <tr>\n",
       "      <th>30192</th>\n",
       "      <td>Germany</td>\n",
       "      <td>2020-05-25</td>\n",
       "      <td>Alpha</td>\n",
       "      <td>0</td>\n",
       "      <td>0.0</td>\n",
       "      <td>94</td>\n",
       "    </tr>\n",
       "    <tr>\n",
       "      <th>30216</th>\n",
       "      <td>Germany</td>\n",
       "      <td>2020-06-08</td>\n",
       "      <td>Alpha</td>\n",
       "      <td>0</td>\n",
       "      <td>0.0</td>\n",
       "      <td>82</td>\n",
       "    </tr>\n",
       "    <tr>\n",
       "      <th>30240</th>\n",
       "      <td>Germany</td>\n",
       "      <td>2020-06-22</td>\n",
       "      <td>Alpha</td>\n",
       "      <td>0</td>\n",
       "      <td>0.0</td>\n",
       "      <td>1528</td>\n",
       "    </tr>\n",
       "    <tr>\n",
       "      <th>30264</th>\n",
       "      <td>Germany</td>\n",
       "      <td>2020-07-06</td>\n",
       "      <td>Alpha</td>\n",
       "      <td>0</td>\n",
       "      <td>0.0</td>\n",
       "      <td>390</td>\n",
       "    </tr>\n",
       "  </tbody>\n",
       "</table>\n",
       "</div>"
      ],
      "text/plain": [
       "      location        date variant  num_sequences  perc_sequences  \\\n",
       "30168  Germany  2020-05-11   Alpha              0             0.0   \n",
       "30192  Germany  2020-05-25   Alpha              0             0.0   \n",
       "30216  Germany  2020-06-08   Alpha              0             0.0   \n",
       "30240  Germany  2020-06-22   Alpha              0             0.0   \n",
       "30264  Germany  2020-07-06   Alpha              0             0.0   \n",
       "\n",
       "       num_sequences_total  \n",
       "30168                  105  \n",
       "30192                   94  \n",
       "30216                   82  \n",
       "30240                 1528  \n",
       "30264                  390  "
      ]
     },
     "execution_count": 25,
     "metadata": {},
     "output_type": "execute_result"
    }
   ],
   "source": [
    "data_ger_alpha.head()"
   ]
  },
  {
   "cell_type": "code",
   "execution_count": 26,
   "id": "23f7614e",
   "metadata": {
    "collapsed": true
   },
   "outputs": [
    {
     "data": {
      "text/plain": [
       "30168    2020-05-11\n",
       "30192    2020-05-25\n",
       "30216    2020-06-08\n",
       "30240    2020-06-22\n",
       "30264    2020-07-06\n",
       "30288    2020-07-20\n",
       "30312    2020-08-03\n",
       "30336    2020-08-17\n",
       "30360    2020-08-31\n",
       "30384    2020-09-14\n",
       "30408    2020-09-28\n",
       "30432    2020-10-12\n",
       "30456    2020-10-26\n",
       "30480    2020-11-09\n",
       "30504    2020-11-23\n",
       "30528    2020-12-07\n",
       "30552    2020-12-21\n",
       "30576    2021-01-04\n",
       "30600    2021-01-11\n",
       "30624    2021-01-25\n",
       "30648    2021-02-08\n",
       "30672    2021-02-22\n",
       "30696    2021-03-08\n",
       "30720    2021-03-22\n",
       "30744    2021-04-05\n",
       "30768    2021-04-19\n",
       "30792    2021-05-03\n",
       "30816    2021-05-17\n",
       "30840    2021-05-31\n",
       "30864    2021-06-14\n",
       "30888    2021-06-28\n",
       "30912    2021-07-12\n",
       "30936    2021-07-26\n",
       "30960    2021-08-09\n",
       "30984    2021-08-23\n",
       "31008    2021-09-06\n",
       "31032    2021-09-20\n",
       "31056    2021-10-04\n",
       "31080    2021-10-18\n",
       "31104    2021-11-01\n",
       "31128    2021-11-15\n",
       "31152    2021-11-29\n",
       "31176    2021-12-13\n",
       "31200    2021-12-27\n",
       "Name: date, dtype: object"
      ]
     },
     "execution_count": 26,
     "metadata": {},
     "output_type": "execute_result"
    }
   ],
   "source": [
    "data_ger_alpha['date']"
   ]
  },
  {
   "cell_type": "code",
   "execution_count": 27,
   "id": "5c221ef5",
   "metadata": {},
   "outputs": [],
   "source": [
    "import matplotlib.pyplot as plt"
   ]
  },
  {
   "cell_type": "code",
   "execution_count": 34,
   "id": "e953825d",
   "metadata": {},
   "outputs": [],
   "source": [
    "d = data_ger_alpha['date']\n",
    "seq = data_ger_alpha['num_sequences']"
   ]
  },
  {
   "cell_type": "code",
   "execution_count": 35,
   "id": "49f259b6",
   "metadata": {},
   "outputs": [
    {
     "data": {
      "text/plain": [
       "[<matplotlib.lines.Line2D at 0x21716f9c3a0>]"
      ]
     },
     "execution_count": 35,
     "metadata": {},
     "output_type": "execute_result"
    },
    {
     "data": {
      "image/png": "[encoded data removed]",
      "text/plain": [
       "<Figure size 1440x720 with 1 Axes>"
      ]
     },
     "metadata": {
      "needs_background": "light"
     },
     "output_type": "display_data"
    }
   ],
   "source": [
    "plt.figure(figsize=(20, 10))\n",
    "plt.locator_params(nbins=10)\n",
    "plt.plot(d,seq)"
   ]
  },
  {
   "cell_type": "code",
   "execution_count": null,
   "id": "c8702d68",
   "metadata": {},
   "outputs": [],
   "source": []
  }
 ],
 "metadata": {
  "kernelspec": {
   "display_name": "Python 3 (ipykernel)",
   "language": "python",
   "name": "python3"
  },
  "language_info": {
   "codemirror_mode": {
    "name": "ipython",
    "version": 3
   },
   "file_extension": ".py",
   "mimetype": "text/x-python",
   "name": "python",
   "nbconvert_exporter": "python",
   "pygments_lexer": "ipython3",
   "version": "3.8.5"
  }
 },
 "nbformat": 4,
 "nbformat_minor": 5
}
